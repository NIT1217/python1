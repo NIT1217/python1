{
  "nbformat": 4,
  "nbformat_minor": 0,
  "metadata": {
    "colab": {
      "provenance": []
    },
    "kernelspec": {
      "name": "python3",
      "display_name": "Python 3"
    },
    "language_info": {
      "name": "python"
    }
  },
  "cells": [
    {
      "cell_type": "code",
      "source": [
        "str1=\"nitish\"\n",
        "print(str1)"
      ],
      "metadata": {
        "id": "YU8E4AoVvU1-"
      },
      "execution_count": null,
      "outputs": []
    },
    {
      "cell_type": "code",
      "source": [
        "str1 = \"hello world \"\n",
        "len(str1)"
      ],
      "metadata": {
        "colab": {
          "base_uri": "https://localhost:8080/"
        },
        "id": "y5gNUFcmuUIK",
        "outputId": "a52e6144-cf27-465a-e113-5ff6fd55b17b"
      },
      "execution_count": null,
      "outputs": [
        {
          "output_type": "execute_result",
          "data": {
            "text/plain": [
              "12"
            ]
          },
          "metadata": {},
          "execution_count": 2
        }
      ]
    },
    {
      "cell_type": "code",
      "source": [
        "str1 =\"python programming\"\n",
        "print(str1[:3])"
      ],
      "metadata": {
        "colab": {
          "base_uri": "https://localhost:8080/"
        },
        "id": "74jwqnQTvVn9",
        "outputId": "dad8d977-4643-40e0-9f9b-5d61625739f0"
      },
      "execution_count": null,
      "outputs": [
        {
          "output_type": "stream",
          "name": "stdout",
          "text": [
            "pyt\n"
          ]
        }
      ]
    },
    {
      "cell_type": "code",
      "source": [
        "str1 = \"hello\"\n",
        "print(str1.upper())\n"
      ],
      "metadata": {
        "id": "b9vm7zklvWWj",
        "colab": {
          "base_uri": "https://localhost:8080/"
        },
        "outputId": "866e43e1-e45d-4907-c3f3-82c425b2713a"
      },
      "execution_count": null,
      "outputs": [
        {
          "output_type": "stream",
          "name": "stdout",
          "text": [
            "HELLO\n"
          ]
        }
      ]
    },
    {
      "cell_type": "code",
      "source": [
        "str1 = \"i like apple\"\n",
        "print(str1.replace(\"apple\",\"banana\"))"
      ],
      "metadata": {
        "id": "1S9CXQD2vWq7",
        "colab": {
          "base_uri": "https://localhost:8080/"
        },
        "outputId": "739fe813-3cd8-4647-88c2-9595998da3ee"
      },
      "execution_count": null,
      "outputs": [
        {
          "output_type": "stream",
          "name": "stdout",
          "text": [
            "i like banana\n"
          ]
        }
      ]
    },
    {
      "cell_type": "code",
      "source": [
        "list1 = [1,2,3,4,5]\n",
        "print(list1)"
      ],
      "metadata": {
        "id": "AeBCJATWvYF5",
        "colab": {
          "base_uri": "https://localhost:8080/"
        },
        "outputId": "0e8a1301-74cf-4383-eb04-fa142a8d73de"
      },
      "execution_count": null,
      "outputs": [
        {
          "output_type": "stream",
          "name": "stdout",
          "text": [
            "[1, 2, 3, 4, 5]\n"
          ]
        }
      ]
    },
    {
      "cell_type": "code",
      "source": [
        "list1 = [1,2,3,4]\n",
        "list1.append(10)\n",
        "print(list1)"
      ],
      "metadata": {
        "colab": {
          "base_uri": "https://localhost:8080/"
        },
        "id": "MgVR5qYqMNYv",
        "outputId": "ed16cb3e-441b-410b-90ed-578b8e1474c1"
      },
      "execution_count": null,
      "outputs": [
        {
          "output_type": "stream",
          "name": "stdout",
          "text": [
            "[1, 2, 3, 4, 10]\n"
          ]
        }
      ]
    },
    {
      "cell_type": "code",
      "source": [
        "list1 = [1,2,3,4,5]\n",
        "list1.remove(3)\n",
        "print(list1)"
      ],
      "metadata": {
        "colab": {
          "base_uri": "https://localhost:8080/"
        },
        "id": "WPuX-MO8MNv7",
        "outputId": "61d74fa0-d88a-4025-a82d-c4d9188aa89d"
      },
      "execution_count": null,
      "outputs": [
        {
          "output_type": "stream",
          "name": "stdout",
          "text": [
            "[1, 2, 4, 5]\n"
          ]
        }
      ]
    },
    {
      "cell_type": "code",
      "source": [
        "list1=['a','b','c','d']\n",
        "print(list1[1])"
      ],
      "metadata": {
        "colab": {
          "base_uri": "https://localhost:8080/"
        },
        "id": "RUiso1b2MN-o",
        "outputId": "2d524e3b-a2c2-4d7e-a617-b80d5a3202dd"
      },
      "execution_count": null,
      "outputs": [
        {
          "output_type": "stream",
          "name": "stdout",
          "text": [
            "b\n"
          ]
        }
      ]
    },
    {
      "cell_type": "code",
      "source": [
        "list1 =[10,20,30,40]\n",
        "print(list1[::-1])"
      ],
      "metadata": {
        "colab": {
          "base_uri": "https://localhost:8080/"
        },
        "id": "_b2SfQ0zMOJY",
        "outputId": "f6b12dc4-058a-4c65-9b5f-e10d556e7269"
      },
      "execution_count": null,
      "outputs": [
        {
          "output_type": "stream",
          "name": "stdout",
          "text": [
            "[40, 30, 20, 10]\n"
          ]
        }
      ]
    },
    {
      "cell_type": "code",
      "source": [
        "my_tuple =(10,20,30)\n",
        "print(my_tuple)\n"
      ],
      "metadata": {
        "colab": {
          "base_uri": "https://localhost:8080/"
        },
        "id": "ZNdSJMGVMOTe",
        "outputId": "1914ad37-6e96-4af1-fcbd-6e6544790034"
      },
      "execution_count": null,
      "outputs": [
        {
          "output_type": "stream",
          "name": "stdout",
          "text": [
            "(10, 20, 30)\n"
          ]
        }
      ]
    },
    {
      "cell_type": "code",
      "source": [
        "my_tuple = ('apple','banana','cherry')\n",
        "print(my_tuple[0])"
      ],
      "metadata": {
        "colab": {
          "base_uri": "https://localhost:8080/"
        },
        "id": "67aauMYDMO9f",
        "outputId": "0c7ead3d-6a60-4123-fc00-702ad7d0f871"
      },
      "execution_count": null,
      "outputs": [
        {
          "output_type": "stream",
          "name": "stdout",
          "text": [
            "apple\n"
          ]
        }
      ]
    },
    {
      "cell_type": "code",
      "source": [
        "my_tuple = (1,2,3,2,4,2)\n",
        "count = 0\n",
        "for i in my_tuple:\n",
        "  if i ==2:\n",
        "    count= count+1\n",
        "\n",
        "print(count)\n"
      ],
      "metadata": {
        "colab": {
          "base_uri": "https://localhost:8080/"
        },
        "id": "zRErn2puMPHR",
        "outputId": "4e575d1d-42ad-4831-9c3f-ef2eb3f51f31"
      },
      "execution_count": null,
      "outputs": [
        {
          "output_type": "stream",
          "name": "stdout",
          "text": [
            "3\n"
          ]
        }
      ]
    },
    {
      "cell_type": "code",
      "source": [
        "\n",
        "my_tuple = ('dog', 'cat', 'rabbit')\n",
        "index_of_cat = my_tuple.index('cat')\n",
        "\n",
        "print(index_of_cat)\n",
        "\n"
      ],
      "metadata": {
        "id": "HfcIeanrMPQk"
      },
      "execution_count": null,
      "outputs": []
    },
    {
      "cell_type": "code",
      "source": [
        "my_tuple = ('apple', 'orange', 'banana')\n",
        "print('banana'in my_tuple)"
      ],
      "metadata": {
        "colab": {
          "base_uri": "https://localhost:8080/"
        },
        "id": "6p-zp37QRiKg",
        "outputId": "f823651c-4039-46f3-d851-248fc1c98150"
      },
      "execution_count": null,
      "outputs": [
        {
          "output_type": "stream",
          "name": "stdout",
          "text": [
            "False\n"
          ]
        }
      ]
    },
    {
      "cell_type": "code",
      "source": [
        "set1= {1,2,3,4,5}\n",
        "print(set1)"
      ],
      "metadata": {
        "id": "URSYCS6lRiHY",
        "colab": {
          "base_uri": "https://localhost:8080/",
          "height": 0
        },
        "outputId": "172a0210-18d2-4fcc-849f-6badfdb22bbc"
      },
      "execution_count": 1,
      "outputs": [
        {
          "output_type": "stream",
          "name": "stdout",
          "text": [
            "{1, 2, 3, 4, 5}\n"
          ]
        }
      ]
    },
    {
      "cell_type": "code",
      "source": [
        "set1={1,2,3,4,5}\n",
        "set1.add(6)\n",
        "print(set1)"
      ],
      "metadata": {
        "id": "xe5mqqfbRiD9",
        "colab": {
          "base_uri": "https://localhost:8080/",
          "height": 0
        },
        "outputId": "c6f6b301-bf0b-460d-8a44-2e9232081e6b"
      },
      "execution_count": 4,
      "outputs": [
        {
          "output_type": "stream",
          "name": "stdout",
          "text": [
            "{1, 2, 3, 4, 5, 6}\n"
          ]
        }
      ]
    },
    {
      "cell_type": "code",
      "source": [
        "my_tuple =(10,20,30)\n",
        "print(my_tuple)\n"
      ],
      "metadata": {
        "colab": {
          "base_uri": "https://localhost:8080/"
        },
        "outputId": "1914ad37-6e96-4af1-fcbd-6e6544790034",
        "id": "zhEprA7ear5z"
      },
      "execution_count": null,
      "outputs": [
        {
          "output_type": "stream",
          "name": "stdout",
          "text": [
            "(10, 20, 30)\n"
          ]
        }
      ]
    },
    {
      "cell_type": "code",
      "source": [
        "my_tuple = ('apple','banana','cherry')\n",
        "print(my_tuple[0])"
      ],
      "metadata": {
        "colab": {
          "base_uri": "https://localhost:8080/"
        },
        "outputId": "0c7ead3d-6a60-4123-fc00-702ad7d0f871",
        "id": "dQHRNpsLayim"
      },
      "execution_count": null,
      "outputs": [
        {
          "output_type": "stream",
          "name": "stdout",
          "text": [
            "apple\n"
          ]
        }
      ]
    },
    {
      "cell_type": "code",
      "source": [
        "my_tuple = (1,2,3,2,4,2)\n",
        "count = 0\n",
        "for i in my_tuple:\n",
        "  if i ==2:\n",
        "    count= count+1\n",
        "\n",
        "print(count)\n"
      ],
      "metadata": {
        "colab": {
          "base_uri": "https://localhost:8080/"
        },
        "outputId": "4e575d1d-42ad-4831-9c3f-ef2eb3f51f31",
        "id": "N_5gkiIRa8Ed"
      },
      "execution_count": null,
      "outputs": [
        {
          "output_type": "stream",
          "name": "stdout",
          "text": [
            "3\n"
          ]
        }
      ]
    },
    {
      "cell_type": "code",
      "source": [
        "\n",
        "my_tuple = ('dog', 'cat', 'rabbit')\n",
        "index_of_cat = my_tuple.index('cat')\n",
        "\n",
        "print(index_of_cat)\n",
        "\n"
      ],
      "metadata": {
        "id": "6UTUY5nEbDW9"
      },
      "execution_count": null,
      "outputs": []
    },
    {
      "cell_type": "code",
      "source": [
        "my_tuple = ('apple', 'orange', 'banana')\n",
        "print('banana'in my_tuple)"
      ],
      "metadata": {
        "colab": {
          "base_uri": "https://localhost:8080/"
        },
        "outputId": "f823651c-4039-46f3-d851-248fc1c98150",
        "id": "IYAs-A-bbVF7"
      },
      "execution_count": null,
      "outputs": [
        {
          "output_type": "stream",
          "name": "stdout",
          "text": [
            "False\n"
          ]
        }
      ]
    },
    {
      "cell_type": "code",
      "source": [
        "set1= {1,2,3,4,5}\n",
        "print(set1)"
      ],
      "metadata": {
        "colab": {
          "base_uri": "https://localhost:8080/"
        },
        "outputId": "172a0210-18d2-4fcc-849f-6badfdb22bbc",
        "id": "7wgyLw1yba8Z"
      },
      "execution_count": null,
      "outputs": [
        {
          "output_type": "stream",
          "name": "stdout",
          "text": [
            "{1, 2, 3, 4, 5}\n"
          ]
        }
      ]
    },
    {
      "cell_type": "code",
      "source": [
        "set1={1,2,3,4,5}\n",
        "set1.add(6)\n",
        "print(set1)"
      ],
      "metadata": {
        "colab": {
          "base_uri": "https://localhost:8080/"
        },
        "outputId": "c6f6b301-bf0b-460d-8a44-2e9232081e6b",
        "id": "P-ri-g1zbfBN"
      },
      "execution_count": null,
      "outputs": [
        {
          "output_type": "stream",
          "name": "stdout",
          "text": [
            "{1, 2, 3, 4, 5, 6}\n"
          ]
        }
      ]
    },
    {
      "cell_type": "markdown",
      "source": [
        "1. what are data structure and why are they important ?\n",
        "  data structure are a way to organise diffrent kind of data or diffrent data types together.\n",
        "   the importance of data structure  is ,  we can use a single data from its collection to operate and manupulate it as well as it is efficent for memory storage\n",
        "\n",
        "\n",
        "\n",
        " 2. explin the differrence betwwen the mutable and imutable data structure  with example\n",
        " - the mutable data structure are those data structures which can be modified and manupulated  whereas\n",
        " the imutable data structures are those data structures which can not be manupulated and modified\n",
        "\n",
        "\n",
        "\n",
        "\n",
        "3.what sre the main diffrence between list and tuple in python?\n",
        "- list are mutable and are written within the [] whereas the tuple are imutable and can be written within ().\n",
        "\n",
        "\n",
        "\n",
        "4. describe how dictoneries store data.\n",
        " - the dictoneries stores data in key-value pairs , where the keys are unique and values can be duplicated the data are unordered\n",
        "\n",
        "\n",
        "\n",
        "\n",
        " 5. Why might you use a set instead of a list in Python\n",
        "  - the  sets are used instead of lists bcs of following reason\n",
        "    a. the  set  dont allow duplication\n",
        "    b. set  is unorderd data structure\n",
        "    c. sets have mathematical operation like as union , intersection whereas lists doesnot have.\n",
        "\n",
        "\n",
        "  \n",
        "6.  What is a string in Python, and how is it different from a list ?\n",
        "  -  strings are collection of charecters  whereas the list is collects of all primitive data types\n",
        "\n",
        "\n",
        "7. How do tuples ensure data integrity in Python ?\n",
        "- tuple is imutable as well as orderd due to these qualities the tuple ensure the intigrity of the python\n",
        "\n",
        "\n",
        "8. What is a hash table, and how does it relate to dictionaries in Python  ?\n",
        "- the hash table is  data structure used to implements dictoneries in python\n",
        "and the index of the dictoneries is called the hash value\n",
        "whereas the key is called the hash table in dictoneries\n",
        "\n",
        "9. Can lists contain different data types in Python\n",
        " - yes\n",
        "\n",
        " 10. Explain why strings are immutable in Python   ?\n",
        " - mutability means that  the elements can be modified easily , whereas the strings can not be modified but  a new string can be generated\n",
        "     s = \"hello\"\n",
        "     new_s = s.upper()\n",
        "   print(s)      # Output: \"hello\" (original string unchanged)\n",
        "   print(new_s)  # Output: \"HELLO\" (new string created)\n",
        "\n",
        "11. What advantages do dictionaries offer over lists for certain tasks ?\n",
        "\n",
        "  - list are ordered pair  at the same place the dictoneries are unordered pair and  dictoneries provides key value pair and  work on the basis of hash table.\n",
        "\n",
        "12. Describe a scenario where using a tuple would be preferable over a list?\n",
        "-  the tuple can be prefered over a list to store the location of a place , date of birth of a person.\n",
        "\n",
        "13.  How do sets handle duplicate values in Python?\n",
        "  - the duplication is not allowed in set . while adding a element the python fix its hash value and store it and this hash value can not be replaced\n",
        "\n",
        "14.  How does the “in” keyword work differently for lists and dictionaries\n",
        " the in keyword in list checks whether a element is abailable in a list or not  whereas the \"in\" key word in dictoneries check whether the key is available in dictoneries.\n",
        "\n",
        "15.  Can you modify the elements of a tuple? Explain why or why not?\n",
        "  - NO bcs the tuple are hashable\n",
        "\n",
        "16. What is a nested dictionary, and give an example of its use case?\n",
        "- A nested dictionary is a dictionary in Python where the values themselves are dictionaries. This allows you to represent more complex, hierarchical data structures, making it easier to model relationships between data in a structured way.\n",
        "   \n",
        "\n",
        "17. Describe the time complexity of accessing elements in a dictionary ?\n",
        "The time complexity of accessing elements in a Python dictionary is typically O(1) on average, meaning that access to a key in the dictionary can be done in constant time, regardless of the size of the dictionary.\n",
        "whereas in somecases when two or more keys have same hash value the time complexity increase to O(n)\n",
        "\n",
        "18. In what situations are lists preferred over dictionaries ?\n",
        " the lists are prefered over the dictoneries when we have to deal with  the mutable data and ordered data.\n",
        "\n",
        "\n",
        "19. Why are dictionaries considered unordered, and how does that affect data retrieval ?\n",
        "\n",
        "- Why are dictionaries considered unordered, and how does that affect data retrieval\n",
        "\n",
        "20. Explain the difference between a list and a dictionary in terms of data retrieval.\n",
        "- the diffrence in both of the will be due to the reason that lists are retreive on the basis of index whereas the dictenories are retrible on the basis of key value\n",
        "          \n",
        "\n",
        "\n"
      ],
      "metadata": {
        "id": "bQZE9oqRrWsU"
      }
    }
  ]
}